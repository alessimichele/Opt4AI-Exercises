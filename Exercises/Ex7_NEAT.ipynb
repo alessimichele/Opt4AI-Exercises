{
 "cells": [
  {
   "cell_type": "markdown",
   "metadata": {},
   "source": [
    "# Regression  with NEAT\n",
    "\n",
    "In this laboratory session, we will use **NEAT** to solve a regression problem. We will use the [Energy Efficiency Dataset](https://www.kaggle.com/datasets/elikplim/eergy-efficiency-dataset), which contains 8 attributes, denoted by **X1**, ..., **X8**, and 2 targets, denoted by y1 and y2. Specifically, we have:\n",
    "\n",
    "- **X1** Relative Compactness\n",
    "- **X2** Surface Area\n",
    "- **X3** Wall Area\n",
    "- **X4** Roof Area\n",
    "- **X5** Overall Height\n",
    "- **X6** Orientation\n",
    "- **X7** Glazing Area\n",
    "- **X8** Glazing Area Distribution\n",
    "- **y1** Heating Load\n",
    "- **y2** Cooling Load\n",
    "\n",
    "Let us import some useful modules."
   ]
  },
  {
   "cell_type": "code",
   "execution_count": 220,
   "metadata": {},
   "outputs": [],
   "source": [
    "import neat\n",
    "import random\n",
    "import pandas as pd\n",
    "import matplotlib.pyplot as plt\n",
    "import seaborn as sns\n",
    "import networkx as nx\n",
    "import numpy as np\n",
    "from sklearn.model_selection import train_test_split\n",
    "\n",
    "random.seed(0)"
   ]
  },
  {
   "cell_type": "markdown",
   "metadata": {},
   "source": [
    "We can load the data from the ```data``` directory."
   ]
  },
  {
   "cell_type": "code",
   "execution_count": null,
   "metadata": {},
   "outputs": [],
   "source": [
    "data_path = \"../data/ENB2012_data.xlsx\"\n",
    "\n",
    "df = pd.read_excel(data_path)\n",
    "df.head(10)"
   ]
  },
  {
   "cell_type": "markdown",
   "metadata": {},
   "source": [
    "Explore the dataset and perform some preprocessing, if necessary."
   ]
  },
  {
   "cell_type": "code",
   "execution_count": null,
   "metadata": {},
   "outputs": [],
   "source": [
    "# CODE HERE"
   ]
  },
  {
   "cell_type": "markdown",
   "metadata": {},
   "source": [
    "Split the dataset into 2 parts: training and validation set."
   ]
  },
  {
   "cell_type": "code",
   "execution_count": 227,
   "metadata": {},
   "outputs": [],
   "source": [
    "X_train, X_val, y_train, y_val = train_test_split(X.to_numpy(), y.to_numpy(), test_size=0.2, random_state=0)"
   ]
  },
  {
   "cell_type": "markdown",
   "metadata": {},
   "source": [
    "Define a function ```eval_genomes``` to calculate the fitness of the genomes."
   ]
  },
  {
   "cell_type": "code",
   "execution_count": 228,
   "metadata": {},
   "outputs": [],
   "source": [
    "# Define the evaluation function for the entire population\n",
    "def eval_genomes(genomes, config):\n",
    "    for _, genome in genomes:\n",
    "        # CODE HERE"
   ]
  },
  {
   "cell_type": "markdown",
   "metadata": {},
   "source": [
    "Define a custom class ```MyReporter``` to save to a text file the fitness of the best individual, as well as its fitness calculated on the validation set, for each generation. You can leverage this class to save also some statistics of interest."
   ]
  },
  {
   "cell_type": "code",
   "execution_count": 229,
   "metadata": {},
   "outputs": [],
   "source": [
    "class MyReporter(neat.reporting.BaseReporter):\n",
    "    def __init__(self, file_path):\n",
    "        self.file_path = file_path\n",
    "        self.generation = 0\n",
    "        self.best_train_history = []\n",
    "        self.best_val_history = []\n",
    "        with open(self.file_path, 'w') as file:\n",
    "            file.write(f\"Generation,Train_fitness,Validation_fitness\\n\")\n",
    "\n",
    "    def post_evaluate(self, config, population, species, best_genome):\n",
    "        self.generation += 1\n",
    "\n",
    "        # CODE HERE"
   ]
  },
  {
   "cell_type": "markdown",
   "metadata": {},
   "source": [
    "Configure the parameters into the ```neat_config.txt```. You can try several settings and see which is better for the task ([documentation](https://neat-python.readthedocs.io/en/latest/config_file.html))."
   ]
  },
  {
   "cell_type": "code",
   "execution_count": 230,
   "metadata": {},
   "outputs": [],
   "source": [
    "config = neat.Config(neat.genome.DefaultGenome,\n",
    "                     neat.reproduction.DefaultReproduction,\n",
    "                     neat.species.DefaultSpeciesSet,\n",
    "                     neat.stagnation.DefaultStagnation,\n",
    "                     \"./neat_config.txt\")"
   ]
  },
  {
   "cell_type": "markdown",
   "metadata": {},
   "source": [
    "Define the initial population with the chosen configuration."
   ]
  },
  {
   "cell_type": "code",
   "execution_count": null,
   "metadata": {},
   "outputs": [],
   "source": [
    "population = neat.Population(config)\n",
    "\n",
    "history_path = \"./history.txt\"\n",
    "population.add_reporter(MyReporter(history_path))"
   ]
  },
  {
   "cell_type": "markdown",
   "metadata": {},
   "source": [
    "We can row run our NEAT algorithm for a given number of generation."
   ]
  },
  {
   "cell_type": "code",
   "execution_count": 232,
   "metadata": {},
   "outputs": [],
   "source": [
    "winner = population.run(eval_genomes, 100)"
   ]
  },
  {
   "cell_type": "markdown",
   "metadata": {},
   "source": [
    "Visualize the results and plot the history of both training and validation fitness."
   ]
  },
  {
   "cell_type": "code",
   "execution_count": null,
   "metadata": {},
   "outputs": [],
   "source": [
    "# CODE HERE"
   ]
  },
  {
   "cell_type": "code",
   "execution_count": null,
   "metadata": {},
   "outputs": [],
   "source": [
    "n_outputs = \n",
    "n_inputs = \n",
    "g = nx.DiGraph()\n",
    "for name in range(-n_inputs, 0):\n",
    "    g.add_node(name, node_type=0)\n",
    "for name in winner.nodes.keys():\n",
    "    if name < n_outputs:\n",
    "        node_type = 2\n",
    "    else:\n",
    "        node_type = 1\n",
    "    g.add_node(name, node_type=node_type)\n",
    "for i,j in winner.connections.keys():\n",
    "    g.add_edge(i, j)\n",
    "pos = nx.multipartite_layout(g, subset_key=\"node_type\")\n",
    "nx.draw(g, pos=pos)"
   ]
  }
 ],
 "metadata": {
  "kernelspec": {
   "display_name": "optai",
   "language": "python",
   "name": "python3"
  },
  "language_info": {
   "codemirror_mode": {
    "name": "ipython",
    "version": 3
   },
   "file_extension": ".py",
   "mimetype": "text/x-python",
   "name": "python",
   "nbconvert_exporter": "python",
   "pygments_lexer": "ipython3",
   "version": "3.11.6"
  }
 },
 "nbformat": 4,
 "nbformat_minor": 2
}
