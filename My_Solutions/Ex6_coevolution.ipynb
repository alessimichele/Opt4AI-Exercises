{
 "cells": [
  {
   "cell_type": "markdown",
   "metadata": {},
   "source": [
    "# Evolving sorting networks through coevolution\n",
    "\n",
    "In this lab session we are going to leverage coevolution to evolve **sorting networks**. Sorting networks are algorithms designed to arrange a sequence of elements into a specific order, usually ascending or descending. The key feature of sorting networks is that they use a fixed set of comparisons and swaps to achieve the sorting, and this set of operations is independent of the input data ([wikipedia](https://en.wikipedia.org/wiki/Sorting_network)).\n",
    "\n",
    "We will represent networks as lists of comparators, where each comparator is a pair of indices indicating which elements to compare.\n",
    "\n",
    "First of all, we import the random module and set the seed."
   ]
  },
  {
   "cell_type": "code",
   "execution_count": 1,
   "metadata": {},
   "outputs": [],
   "source": [
    "import random\n",
    "random.seed(0)"
   ]
  },
  {
   "cell_type": "markdown",
   "metadata": {},
   "source": [
    "Let us define a function which sorts an array with a given sorting network."
   ]
  },
  {
   "cell_type": "code",
   "execution_count": 2,
   "metadata": {},
   "outputs": [],
   "source": [
    "def eval_sorting_network(sn, array):\n",
    "    \"\"\"Evaluate the sorting network on the given array.\"\"\"\n",
    "    for i in range(len(sn)):\n",
    "        a, b = sn[i]\n",
    "        if array[a] > array[b]:\n",
    "            array[a], array[b] = array[b], array[a]    \n",
    "    return array"
   ]
  },
  {
   "cell_type": "code",
   "execution_count": 4,
   "metadata": {},
   "outputs": [
    {
     "data": {
      "text/plain": [
       "[2, 4, 5, 6]"
      ]
     },
     "execution_count": 4,
     "metadata": {},
     "output_type": "execute_result"
    }
   ],
   "source": [
    "sn=[[0,2], [1,3], [0,3] ,[1,2], [0,1], [2,3]]\n",
    "eval_sorting_network(sn, [6,4,2,5])"
   ]
  },
  {
   "cell_type": "markdown",
   "metadata": {},
   "source": [
    "Now, we write the code to initialize the 2 competing populations: one for the networks and one for the arrays."
   ]
  },
  {
   "cell_type": "code",
   "execution_count": 5,
   "metadata": {},
   "outputs": [],
   "source": [
    "def get_random_network(value_range, depth):\n",
    "    return [sorted(random.sample(value_range, k=2)) for _ in range(0, depth)]"
   ]
  },
  {
   "cell_type": "code",
   "execution_count": 6,
   "metadata": {},
   "outputs": [],
   "source": [
    "def init_array_population(value_range, dim, pop_size):\n",
    "    return [random.sample(value_range, k=dim) for _ in range(0, pop_size)]\n",
    "\n",
    "def init_network_population(value_range, min_depth, max_depth, pop_size):\n",
    "    return [get_random_network(value_range, random.randint(min_depth, max_depth)) for _ in range(0, pop_size)]"
   ]
  },
  {
   "cell_type": "markdown",
   "metadata": {},
   "source": [
    "Let us define the 2 fitness functions. A network will have good fitness if it can sort many arrays, while an array will have good fitness if it can 'trick' many networks."
   ]
  },
  {
   "cell_type": "code",
   "execution_count": 7,
   "metadata": {},
   "outputs": [],
   "source": [
    "def net_fitness(net_pop, arr_pop, k=10):\n",
    "    net_scores = [0]*len(net_pop)\n",
    "\n",
    "    for i in range(len(net_pop)):\n",
    "        for j in range(len(arr_pop)):\n",
    "            arr = arr_pop[j].copy()\n",
    "            eval_sorting_network(net_pop[i], arr)\n",
    "            net_scores[i] += k - sum([1 for x, y in zip(arr, sorted(arr)) if x != y])\n",
    "    \n",
    "    return net_scores\n",
    "\n",
    "def arr_fitness(net_pop, arr_pop, k=10):\n",
    "    arr_scores = [0]*len(arr_pop)\n",
    "\n",
    "    for i in range(len(arr_pop)):\n",
    "        for j in range(len(net_pop)):\n",
    "            arr = arr_pop[i].copy()\n",
    "            eval_sorting_network(net_pop[j], arr)\n",
    "            arr_scores[i] += k - sum([1 for x, y in zip(arr, sorted(arr)) if x != y])\n",
    "    return arr_scores"
   ]
  },
  {
   "cell_type": "markdown",
   "metadata": {},
   "source": [
    "We now implement the tournament selection and the crossover. We can use the same functions for both the populations."
   ]
  },
  {
   "cell_type": "code",
   "execution_count": 8,
   "metadata": {},
   "outputs": [],
   "source": [
    "def tournament_selection(pop, scores, k):\n",
    "  tournament = random.choices(range(len(pop)), k=k)\n",
    "  return pop[tournament[scores.index(max([scores[i] for i in tournament]))]]\n"
   ]
  },
  {
   "cell_type": "code",
   "execution_count": 9,
   "metadata": {},
   "outputs": [],
   "source": [
    "def one_point_crossover(x, y):\n",
    "    \"\"\"Perform one point crossover on the two given parents.\"\"\"\n",
    "    pos = random.randint(0, len(x)-1)\n",
    "    return x[:pos] + y[pos:]#, y[:pos] + x[pos:]\n",
    "\n",
    "def uniform_crossover(x, y):\n",
    "    \"\"\"Perform uniform crossover on the two given parents.\"\"\"\n",
    "    return [random.choice([x[i], y[i]]) for i in range(len(x))]\n",
    "\n"
   ]
  },
  {
   "cell_type": "markdown",
   "metadata": {},
   "source": [
    "We can now implement a mutation function for the arrays."
   ]
  },
  {
   "cell_type": "code",
   "execution_count": 10,
   "metadata": {},
   "outputs": [],
   "source": [
    "def array_mutation(x, value_range, p_m):\n",
    "  def mutate(v):\n",
    "    if random.random() < p_m:\n",
    "        res = random.choice(value_range)\n",
    "        while res == v: # we avoid sampling the same value\n",
    "            res = random.choice(value_range)\n",
    "        return res\n",
    "    else:\n",
    "      return v\n",
    "  return [mutate(v) for v in x]"
   ]
  },
  {
   "cell_type": "markdown",
   "metadata": {},
   "source": [
    "Now, we can choose one or more mutation operators for the sorting networks. You can use different ones during the evolution."
   ]
  },
  {
   "cell_type": "code",
   "execution_count": 11,
   "metadata": {},
   "outputs": [],
   "source": [
    "def net_mutation(sn, value_range, p_m):\n",
    "    def mutate(v):\n",
    "        if random.random() < p_m:\n",
    "            res = random.choice(value_range)\n",
    "            while res == v:\n",
    "                res = random.choice(value_range)\n",
    "            return res\n",
    "        else:\n",
    "            return v\n",
    "    return [mutate(v) for v in sn]"
   ]
  },
  {
   "cell_type": "markdown",
   "metadata": {},
   "source": [
    "We have now all the elements to write the code for a generation."
   ]
  },
  {
   "cell_type": "code",
   "execution_count": 12,
   "metadata": {},
   "outputs": [],
   "source": [
    "def get_best(pop, scores):\n",
    "  return max(list(zip(scores, pop)))"
   ]
  },
  {
   "cell_type": "code",
   "execution_count": 13,
   "metadata": {},
   "outputs": [],
   "source": [
    "def generation(net_pop, arr_pop, net_scores, arr_scores, crossover, arr_dim, value_range, p_m, t_size):\n",
    "  pop_size = len(net_pop)\n",
    "  # perform selection for both the populations\n",
    "\n",
    "  new_net_pop = []\n",
    "  new_arr_pop = []\n",
    "\n",
    "  for _ in range(pop_size):\n",
    "    new_net_pop.append(tournament_selection(net_pop, net_scores, t_size))\n",
    "    new_arr_pop.append(tournament_selection(arr_pop, arr_scores, t_size))\n",
    "  # perform crossover\n",
    "\n",
    "  new_net_pop = [crossover(new_net_pop[i], new_net_pop[(i+1)%pop_size]) for i in range(pop_size)]\n",
    "  new_arr_pop = [crossover(new_arr_pop[i], new_arr_pop[(i+1)%pop_size]) for i in range(pop_size)]\n",
    "  # perform mutation\n",
    "\n",
    "  new_net_pop = [net_mutation(new_net_pop[i], value_range, p_m) for i in range(pop_size)]\n",
    "  new_arr_pop = [array_mutation(new_arr_pop[i], value_range, p_m) for i in range(pop_size)]\n",
    "\n",
    "  return new_net_pop, new_arr_pop\n",
    "  \n"
   ]
  },
  {
   "cell_type": "markdown",
   "metadata": {},
   "source": [
    "We can now define our `coevolution` function."
   ]
  },
  {
   "cell_type": "code",
   "execution_count": 14,
   "metadata": {},
   "outputs": [],
   "source": [
    "def coevolution(value_range, \n",
    "                pop_size,\n",
    "                arr_dim,\n",
    "                min_depth,\n",
    "                max_depth,\n",
    "                net_fit,\n",
    "                arr_fit,\n",
    "                crossover,\n",
    "                t_size = 10, \n",
    "                n_gen = 200,\n",
    "                k_fit = 50):\n",
    "  \n",
    "  p_m = 1/arr_dim\n",
    "  # initialize the population\n",
    "  Pt = init_network_population(value_range, min_depth, max_depth, pop_size)\n",
    "  Qt = init_array_population(value_range, arr_dim, pop_size)\n",
    "  # evaluate the fitness\n",
    "  net_scores = net_fit(Pt, Qt, k_fit)\n",
    "  arr_scores = arr_fit(Pt, Qt, k_fit)\n",
    "  net_history = [get_best(Pt, net_scores)[0]]\n",
    "  arr_history = [get_best(Qt, arr_scores)[0]]\n",
    "  \n",
    "  for _ in range(0, n_gen):\n",
    "    Ptm1 = Pt\n",
    "    Qtm1 = Qt\n",
    "    Pt, Qt = generation(Ptm1, Qtm1, net_scores, arr_scores, crossover, arr_dim, value_range, p_m, t_size)\n",
    "    # evaluate the fitness\n",
    "    net_scores = net_fit(Pt, Qt, k_fit)\n",
    "    arr_scores = arr_fit(Pt, Qt, k_fit)\n",
    "    net_history.append(get_best(Pt, net_scores)[0])\n",
    "    arr_history.append(get_best(Qt, arr_scores)[0])\n",
    "    \n",
    "  return get_best(Pt, net_scores)[1], get_best(Qt, arr_scores)[1], net_history, arr_history"
   ]
  },
  {
   "cell_type": "markdown",
   "metadata": {},
   "source": [
    "Try your code for different array dimensions and parameters."
   ]
  },
  {
   "cell_type": "code",
   "execution_count": 15,
   "metadata": {},
   "outputs": [
    {
     "ename": "IndexError",
     "evalue": "list index out of range",
     "output_type": "error",
     "traceback": [
      "\u001b[0;31m---------------------------------------------------------------------------\u001b[0m",
      "\u001b[0;31mIndexError\u001b[0m                                Traceback (most recent call last)",
      "\u001b[1;32m/Users/michelealessi/Desktop/GMO/Opt4AI-Exercises/My_Solutions/Ex6_coevolution.ipynb Cell 24\u001b[0m line \u001b[0;36m1\n\u001b[0;32m----> <a href='vscode-notebook-cell:/Users/michelealessi/Desktop/GMO/Opt4AI-Exercises/My_Solutions/Ex6_coevolution.ipynb#X32sZmlsZQ%3D%3D?line=0'>1</a>\u001b[0m best_net, best_arr, net_history, arr_history \u001b[39m=\u001b[39m coevolution(\n\u001b[1;32m      <a href='vscode-notebook-cell:/Users/michelealessi/Desktop/GMO/Opt4AI-Exercises/My_Solutions/Ex6_coevolution.ipynb#X32sZmlsZQ%3D%3D?line=1'>2</a>\u001b[0m     value_range\u001b[39m=\u001b[39;49m\u001b[39mrange\u001b[39;49m(\u001b[39m50\u001b[39;49m), \n\u001b[1;32m      <a href='vscode-notebook-cell:/Users/michelealessi/Desktop/GMO/Opt4AI-Exercises/My_Solutions/Ex6_coevolution.ipynb#X32sZmlsZQ%3D%3D?line=2'>3</a>\u001b[0m     pop_size\u001b[39m=\u001b[39;49m\u001b[39m500\u001b[39;49m,\n\u001b[1;32m      <a href='vscode-notebook-cell:/Users/michelealessi/Desktop/GMO/Opt4AI-Exercises/My_Solutions/Ex6_coevolution.ipynb#X32sZmlsZQ%3D%3D?line=3'>4</a>\u001b[0m     arr_dim\u001b[39m=\u001b[39;49m\u001b[39m10\u001b[39;49m,\n\u001b[1;32m      <a href='vscode-notebook-cell:/Users/michelealessi/Desktop/GMO/Opt4AI-Exercises/My_Solutions/Ex6_coevolution.ipynb#X32sZmlsZQ%3D%3D?line=4'>5</a>\u001b[0m     min_depth\u001b[39m=\u001b[39;49m\u001b[39m15\u001b[39;49m,\n\u001b[1;32m      <a href='vscode-notebook-cell:/Users/michelealessi/Desktop/GMO/Opt4AI-Exercises/My_Solutions/Ex6_coevolution.ipynb#X32sZmlsZQ%3D%3D?line=5'>6</a>\u001b[0m     max_depth\u001b[39m=\u001b[39;49m\u001b[39m50\u001b[39;49m,\n\u001b[1;32m      <a href='vscode-notebook-cell:/Users/michelealessi/Desktop/GMO/Opt4AI-Exercises/My_Solutions/Ex6_coevolution.ipynb#X32sZmlsZQ%3D%3D?line=6'>7</a>\u001b[0m     net_fit\u001b[39m=\u001b[39;49mnet_fitness,\n\u001b[1;32m      <a href='vscode-notebook-cell:/Users/michelealessi/Desktop/GMO/Opt4AI-Exercises/My_Solutions/Ex6_coevolution.ipynb#X32sZmlsZQ%3D%3D?line=7'>8</a>\u001b[0m     arr_fit\u001b[39m=\u001b[39;49marr_fitness,\n\u001b[1;32m      <a href='vscode-notebook-cell:/Users/michelealessi/Desktop/GMO/Opt4AI-Exercises/My_Solutions/Ex6_coevolution.ipynb#X32sZmlsZQ%3D%3D?line=8'>9</a>\u001b[0m     crossover\u001b[39m=\u001b[39;49mone_point_crossover,\n\u001b[1;32m     <a href='vscode-notebook-cell:/Users/michelealessi/Desktop/GMO/Opt4AI-Exercises/My_Solutions/Ex6_coevolution.ipynb#X32sZmlsZQ%3D%3D?line=9'>10</a>\u001b[0m     t_size \u001b[39m=\u001b[39;49m \u001b[39m10\u001b[39;49m,\n\u001b[1;32m     <a href='vscode-notebook-cell:/Users/michelealessi/Desktop/GMO/Opt4AI-Exercises/My_Solutions/Ex6_coevolution.ipynb#X32sZmlsZQ%3D%3D?line=10'>11</a>\u001b[0m     n_gen \u001b[39m=\u001b[39;49m \u001b[39m200\u001b[39;49m,\n\u001b[1;32m     <a href='vscode-notebook-cell:/Users/michelealessi/Desktop/GMO/Opt4AI-Exercises/My_Solutions/Ex6_coevolution.ipynb#X32sZmlsZQ%3D%3D?line=11'>12</a>\u001b[0m     k_fit \u001b[39m=\u001b[39;49m \u001b[39m50\u001b[39;49m\n\u001b[1;32m     <a href='vscode-notebook-cell:/Users/michelealessi/Desktop/GMO/Opt4AI-Exercises/My_Solutions/Ex6_coevolution.ipynb#X32sZmlsZQ%3D%3D?line=12'>13</a>\u001b[0m     )\n",
      "\u001b[1;32m/Users/michelealessi/Desktop/GMO/Opt4AI-Exercises/My_Solutions/Ex6_coevolution.ipynb Cell 24\u001b[0m line \u001b[0;36m1\n\u001b[1;32m     <a href='vscode-notebook-cell:/Users/michelealessi/Desktop/GMO/Opt4AI-Exercises/My_Solutions/Ex6_coevolution.ipynb#X32sZmlsZQ%3D%3D?line=15'>16</a>\u001b[0m Qt \u001b[39m=\u001b[39m init_array_population(value_range, arr_dim, pop_size)\n\u001b[1;32m     <a href='vscode-notebook-cell:/Users/michelealessi/Desktop/GMO/Opt4AI-Exercises/My_Solutions/Ex6_coevolution.ipynb#X32sZmlsZQ%3D%3D?line=16'>17</a>\u001b[0m \u001b[39m# evaluate the fitness\u001b[39;00m\n\u001b[0;32m---> <a href='vscode-notebook-cell:/Users/michelealessi/Desktop/GMO/Opt4AI-Exercises/My_Solutions/Ex6_coevolution.ipynb#X32sZmlsZQ%3D%3D?line=17'>18</a>\u001b[0m net_scores \u001b[39m=\u001b[39m net_fit(Pt, Qt, k_fit)\n\u001b[1;32m     <a href='vscode-notebook-cell:/Users/michelealessi/Desktop/GMO/Opt4AI-Exercises/My_Solutions/Ex6_coevolution.ipynb#X32sZmlsZQ%3D%3D?line=18'>19</a>\u001b[0m arr_scores \u001b[39m=\u001b[39m arr_fit(Pt, Qt, k_fit)\n\u001b[1;32m     <a href='vscode-notebook-cell:/Users/michelealessi/Desktop/GMO/Opt4AI-Exercises/My_Solutions/Ex6_coevolution.ipynb#X32sZmlsZQ%3D%3D?line=19'>20</a>\u001b[0m net_history \u001b[39m=\u001b[39m [get_best(Pt, net_scores)[\u001b[39m0\u001b[39m]]\n",
      "\u001b[1;32m/Users/michelealessi/Desktop/GMO/Opt4AI-Exercises/My_Solutions/Ex6_coevolution.ipynb Cell 24\u001b[0m line \u001b[0;36m7\n\u001b[1;32m      <a href='vscode-notebook-cell:/Users/michelealessi/Desktop/GMO/Opt4AI-Exercises/My_Solutions/Ex6_coevolution.ipynb#X32sZmlsZQ%3D%3D?line=4'>5</a>\u001b[0m     \u001b[39mfor\u001b[39;00m j \u001b[39min\u001b[39;00m \u001b[39mrange\u001b[39m(\u001b[39mlen\u001b[39m(arr_pop)):\n\u001b[1;32m      <a href='vscode-notebook-cell:/Users/michelealessi/Desktop/GMO/Opt4AI-Exercises/My_Solutions/Ex6_coevolution.ipynb#X32sZmlsZQ%3D%3D?line=5'>6</a>\u001b[0m         arr \u001b[39m=\u001b[39m arr_pop[j]\u001b[39m.\u001b[39mcopy()\n\u001b[0;32m----> <a href='vscode-notebook-cell:/Users/michelealessi/Desktop/GMO/Opt4AI-Exercises/My_Solutions/Ex6_coevolution.ipynb#X32sZmlsZQ%3D%3D?line=6'>7</a>\u001b[0m         eval_sorting_network(net_pop[i], arr)\n\u001b[1;32m      <a href='vscode-notebook-cell:/Users/michelealessi/Desktop/GMO/Opt4AI-Exercises/My_Solutions/Ex6_coevolution.ipynb#X32sZmlsZQ%3D%3D?line=7'>8</a>\u001b[0m         net_scores[i] \u001b[39m+\u001b[39m\u001b[39m=\u001b[39m k \u001b[39m-\u001b[39m \u001b[39msum\u001b[39m([\u001b[39m1\u001b[39m \u001b[39mfor\u001b[39;00m x, y \u001b[39min\u001b[39;00m \u001b[39mzip\u001b[39m(arr, \u001b[39msorted\u001b[39m(arr)) \u001b[39mif\u001b[39;00m x \u001b[39m!=\u001b[39m y])\n\u001b[1;32m     <a href='vscode-notebook-cell:/Users/michelealessi/Desktop/GMO/Opt4AI-Exercises/My_Solutions/Ex6_coevolution.ipynb#X32sZmlsZQ%3D%3D?line=9'>10</a>\u001b[0m \u001b[39mreturn\u001b[39;00m net_scores\n",
      "\u001b[1;32m/Users/michelealessi/Desktop/GMO/Opt4AI-Exercises/My_Solutions/Ex6_coevolution.ipynb Cell 24\u001b[0m line \u001b[0;36m5\n\u001b[1;32m      <a href='vscode-notebook-cell:/Users/michelealessi/Desktop/GMO/Opt4AI-Exercises/My_Solutions/Ex6_coevolution.ipynb#X32sZmlsZQ%3D%3D?line=2'>3</a>\u001b[0m \u001b[39mfor\u001b[39;00m i \u001b[39min\u001b[39;00m \u001b[39mrange\u001b[39m(\u001b[39mlen\u001b[39m(sn)):\n\u001b[1;32m      <a href='vscode-notebook-cell:/Users/michelealessi/Desktop/GMO/Opt4AI-Exercises/My_Solutions/Ex6_coevolution.ipynb#X32sZmlsZQ%3D%3D?line=3'>4</a>\u001b[0m     a, b \u001b[39m=\u001b[39m sn[i]\n\u001b[0;32m----> <a href='vscode-notebook-cell:/Users/michelealessi/Desktop/GMO/Opt4AI-Exercises/My_Solutions/Ex6_coevolution.ipynb#X32sZmlsZQ%3D%3D?line=4'>5</a>\u001b[0m     \u001b[39mif\u001b[39;00m array[a] \u001b[39m>\u001b[39m array[b]:\n\u001b[1;32m      <a href='vscode-notebook-cell:/Users/michelealessi/Desktop/GMO/Opt4AI-Exercises/My_Solutions/Ex6_coevolution.ipynb#X32sZmlsZQ%3D%3D?line=5'>6</a>\u001b[0m         array[a], array[b] \u001b[39m=\u001b[39m array[b], array[a]    \n\u001b[1;32m      <a href='vscode-notebook-cell:/Users/michelealessi/Desktop/GMO/Opt4AI-Exercises/My_Solutions/Ex6_coevolution.ipynb#X32sZmlsZQ%3D%3D?line=6'>7</a>\u001b[0m \u001b[39mreturn\u001b[39;00m array\n",
      "\u001b[0;31mIndexError\u001b[0m: list index out of range"
     ]
    }
   ],
   "source": [
    "best_net, best_arr, net_history, arr_history = coevolution(\n",
    "    value_range=range(50), \n",
    "    pop_size=500,\n",
    "    arr_dim=10,\n",
    "    min_depth=15,\n",
    "    max_depth=50,\n",
    "    net_fit=net_fitness,\n",
    "    arr_fit=arr_fitness,\n",
    "    crossover=one_point_crossover,\n",
    "    t_size = 10,\n",
    "    n_gen = 200,\n",
    "    k_fit = 50\n",
    "    )"
   ]
  },
  {
   "cell_type": "code",
   "execution_count": null,
   "metadata": {},
   "outputs": [],
   "source": [
    "print(best_net)\n",
    "print(best_arr)"
   ]
  },
  {
   "cell_type": "code",
   "execution_count": null,
   "metadata": {},
   "outputs": [],
   "source": [
    "random_arr = random.sample(range(50), k = 10)\n",
    "print(random_arr)\n",
    "eval_sorting_network(best_net, random_arr)"
   ]
  },
  {
   "cell_type": "code",
   "execution_count": null,
   "metadata": {},
   "outputs": [],
   "source": [
    "eval_sorting_network(best_net, best_arr)"
   ]
  },
  {
   "cell_type": "markdown",
   "metadata": {},
   "source": [
    "Plot the evolution of the fitness score of the best individual for both populations"
   ]
  },
  {
   "cell_type": "code",
   "execution_count": 1141,
   "metadata": {},
   "outputs": [],
   "source": [
    "import matplotlib.pyplot as plt"
   ]
  },
  {
   "cell_type": "code",
   "execution_count": null,
   "metadata": {},
   "outputs": [],
   "source": [
    "plt.plot(net_history)\n",
    "plt.ylabel('Network fitness')\n",
    "plt.xlabel('Generation')\n",
    "plt.show()"
   ]
  },
  {
   "cell_type": "code",
   "execution_count": null,
   "metadata": {},
   "outputs": [],
   "source": [
    "plt.plot(arr_history)\n",
    "plt.ylabel('Array fitness')\n",
    "plt.xlabel('Generation')\n",
    "plt.show()"
   ]
  }
 ],
 "metadata": {
  "kernelspec": {
   "display_name": "optai",
   "language": "python",
   "name": "python3"
  },
  "language_info": {
   "codemirror_mode": {
    "name": "ipython",
    "version": 3
   },
   "file_extension": ".py",
   "mimetype": "text/x-python",
   "name": "python",
   "nbconvert_exporter": "python",
   "pygments_lexer": "ipython3",
   "version": "3.11.1"
  }
 },
 "nbformat": 4,
 "nbformat_minor": 2
}
