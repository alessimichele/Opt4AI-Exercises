{
 "cells": [
  {
   "cell_type": "markdown",
   "metadata": {},
   "source": [
    "# Solving the Travelling Salesman Problem using Genetic Algorithm\n",
    "\n",
    "The *Traveling Salesman Problem* (TSP) is a classic and extremely important optimisation problem in the field of operations research and computer science. It can be stated as follows: *Given a set of cities and the distances between each pair of cities, the goal is to find the shortest possible route that visits each city exactly once and returns back to the starting city.* The TSP is known to be a NP-hard problem, hence it doesn't have a known polynomial-time algorithm which solves it exactly. In this first lab session, we will try to leverage *Genetic Algorithm* (GA) to come up with a solution.\n",
    "\n",
    "Let's start by importing some useful modules."
   ]
  },
  {
   "cell_type": "code",
   "execution_count": 1,
   "metadata": {},
   "outputs": [],
   "source": [
    "import random\n",
    "import numpy as np\n",
    "import matplotlib.pyplot as plt"
   ]
  },
  {
   "cell_type": "markdown",
   "metadata": {},
   "source": [
    "We define a `City` class to handle our cities more easily. "
   ]
  },
  {
   "cell_type": "code",
   "execution_count": 2,
   "metadata": {},
   "outputs": [],
   "source": [
    "class City:\n",
    "    def __init__(self, x, y):\n",
    "        self.x = x\n",
    "        self.y = y\n",
    "    \n",
    "    def __repr__(self):\n",
    "        return \"(\" + str(self.x) + \", \" + str(self.y) + \")\"\n",
    "    \n",
    "    def __eq__(self, other_city):\n",
    "        return isinstance(other_city, City) and self.x == other_city.x and self.y == other_city.y\n",
    "    \n",
    "    def __ne__(self, other_city):\n",
    "        return not self == other_city\n",
    "    \n",
    "    def __hash__(self):\n",
    "        # Use a hash of the tuple (self.x, self.y) to make City objects hashable\n",
    "        return hash((self.x, self.y))\n",
    "    \n",
    "    def distance(self, city):\n",
    "        dist = np.sqrt((self.x-city.x)**2 + (self.y-city.y)**2)\n",
    "        return dist"
   ]
  },
  {
   "cell_type": "markdown",
   "metadata": {},
   "source": [
    "Now we want a function to initialize our population. Remember that each route must contain each city **exactly once**."
   ]
  },
  {
   "cell_type": "code",
   "execution_count": 3,
   "metadata": {},
   "outputs": [],
   "source": [
    "def get_cities(n_cities, x_range, y_range):\n",
    "    cities = []\n",
    "    while len(cities) < n_cities:\n",
    "        cities.append(City(x=int(random.random() * x_range), y=int(random.random() * y_range)))\n",
    "        cities = list(set(cities))\n",
    "    return cities\n",
    "\n",
    "\n",
    "def init_population(cities, pop_size):\n",
    "    init_pop = []\n",
    "    for _ in range(pop_size):\n",
    "        shuffled_list = cities.copy()\n",
    "        random.shuffle(shuffled_list)\n",
    "        init_pop.append(shuffled_list)\n",
    "    return init_pop"
   ]
  },
  {
   "cell_type": "code",
   "execution_count": 6,
   "metadata": {},
   "outputs": [
    {
     "name": "stdout",
     "output_type": "stream",
     "text": [
      "[(2, 1), (0, 0), (1, 1), (2, 0), (0, 2)]\n",
      "[[(0, 2), (0, 0), (2, 1), (1, 1), (2, 0)], [(0, 0), (2, 0), (2, 1), (1, 1), (0, 2)], [(1, 1), (2, 0), (0, 0), (0, 2), (2, 1)], [(0, 2), (1, 1), (0, 0), (2, 0), (2, 1)], [(0, 2), (2, 1), (0, 0), (1, 1), (2, 0)]]\n"
     ]
    }
   ],
   "source": [
    "cities = get_cities(5, 3, 3)\n",
    "print(cities)\n",
    "init_pop = init_population(cities=cities, pop_size=5)\n",
    "print(init_pop)"
   ]
  },
  {
   "cell_type": "markdown",
   "metadata": {},
   "source": [
    "We define the **fitness** as the inverse of the route distance. Since we want to minimise the distance, we want to maximise our fitness score."
   ]
  },
  {
   "cell_type": "code",
   "execution_count": 8,
   "metadata": {},
   "outputs": [],
   "source": [
    "def fitness_score(route):\n",
    "    dist = 0\n",
    "    for i in range(len(route)-1):\n",
    "        dist += route[i].distance(route[i+1])\n",
    "    dist += route[i].distance(route[0])\n",
    "    return 1/dist\n",
    "\n",
    "# fitness_score(init_pop[0])"
   ]
  },
  {
   "cell_type": "markdown",
   "metadata": {},
   "source": [
    "We define now a function to perform **tournament selection** (or any other selection strategy you may prefer)."
   ]
  },
  {
   "cell_type": "code",
   "execution_count": 9,
   "metadata": {},
   "outputs": [],
   "source": [
    "def tournament_selection(population, k):\n",
    "  if k > len(population):\n",
    "    raise ValueError('Tournament size k must be lower or equal the population size.')\n",
    "  tournament = random.choices(population, k=k)\n",
    "  selected = max([(fitness_score(x), x) for x in tournament])\n",
    "  return selected[1]"
   ]
  },
  {
   "cell_type": "markdown",
   "metadata": {},
   "source": [
    "Since each individual is a permutation of a set of different cities we must ensure that crossover and mutation generate valid individuals. As for the crossover, we can choose between the **partially mapped crossover** (**PMX**) and the **cycle crossover**. Let's implement both."
   ]
  },
  {
   "cell_type": "code",
   "execution_count": 11,
   "metadata": {},
   "outputs": [],
   "source": [
    "def pmx(parent1, parent2):\n",
    "    size = len(parent1)\n",
    "    \n",
    "    # Choose two random crossover points\n",
    "    point1, point2 = random.sample(range(size), 2)\n",
    "    if point1 > point2:\n",
    "        point1, point2 = point2, point1\n",
    "\n",
    "    #print('Crossover points: ', point1, point2)\n",
    "\n",
    "    # create the map\n",
    "    map1 = {}\n",
    "    map2 = {}\n",
    "    for i in range(point1, point2):\n",
    "        map1[parent1[i]] = parent2[i]\n",
    "        map2[parent2[i]] = parent1[i]\n",
    "\n",
    "    #print('map1: ', map1)\n",
    "    #print('map2: ', map2)\n",
    "\n",
    "    # create offspring\n",
    "    child1 = parent1.copy()\n",
    "    child2 = parent2.copy()\n",
    "\n",
    "    child1[point1:point2] = parent2[point1:point2]\n",
    "    child2[point1:point2] = parent1[point1:point2]\n",
    "    \n",
    "    # fix\n",
    "    for i in range(point1):\n",
    "        if child1[i] in map2:\n",
    "            child1[i] = recursive_check(map2, child1[i])\n",
    "    for i in range(point1):\n",
    "        if child2[i] in map1:\n",
    "            child2[i] = recursive_check(map1, child2[i])\n",
    "\n",
    "    for i in range(point2, size):\n",
    "        if child1[i] in map2:\n",
    "            child1[i] = recursive_check(map2, child1[i])\n",
    "    for i in range(point2, size):\n",
    "        if child2[i] in map1:  \n",
    "            child2[i] = recursive_check(map1, child2[i])\n",
    "\n",
    "    return child1# , child2\n",
    "\n",
    "def recursive_check(map, k):\n",
    "    tmp = k\n",
    "    while tmp in map:\n",
    "        tmp = map[tmp] \n",
    "    return tmp"
   ]
  },
  {
   "cell_type": "code",
   "execution_count": null,
   "metadata": {},
   "outputs": [],
   "source": [
    "# cleverer way to implement it (without map)\n",
    "def pmx_(parent1, parent2):\n",
    "    size = len(parent1)\n",
    "    \n",
    "    # Choose two random crossover points\n",
    "    point1, point2 = random.sample(range(size), 2)\n",
    "    if point1 > point2:\n",
    "        point1, point2 = point2, point1\n",
    "\n",
    "    print('Crossover points: ', point1, point2)\n",
    "\n",
    "    # create offspring\n",
    "    child1 = parent1.copy()\n",
    "    child2 = parent2.copy()\n",
    "\n",
    "    child1[point1:point2] = parent2[point1:point2]\n",
    "    child2[point1:point2] = parent1[point1:point2]\n",
    "    \n",
    "    for i in range(len(parent1)):\n",
    "        if i < point1 or i > point2:\n",
    "            while child1[i] in child1[point1:point2]:\n",
    "                idx = child1.index(child1[i], point1, point2)\n",
    "                child1[i] = parent1[idx]\n",
    "            while child2[i] in child2[point1:point2]:\n",
    "                idx = child2.index(child2[i], point1, point2)\n",
    "                child2[i] = parent2[idx]\n",
    "\n",
    "    return child1# , child2"
   ]
  },
  {
   "cell_type": "code",
   "execution_count": 12,
   "metadata": {},
   "outputs": [],
   "source": [
    "def cx(parent1, parent2):\n",
    "    size = len(parent1)\n",
    "    child = parent2.copy()\n",
    "    idxs = []\n",
    "    idx = random.sample(range(size), 1)[0]\n",
    "    #print('Crossover point: ', idx)\n",
    "    while idx not in idxs:\n",
    "        idxs.append(idx)\n",
    "        new_idx = parent2.index(parent1[idx])\n",
    "        child[new_idx] = parent1[new_idx]\n",
    "        idx = new_idx\n",
    "    \n",
    "    # copy remaning elements\n",
    "    for i in range(size):\n",
    "        if i not in idxs:\n",
    "            child[i] = parent2[i]\n",
    "\n",
    "    return child"
   ]
  },
  {
   "cell_type": "markdown",
   "metadata": {},
   "source": [
    "Let's check if we did everything right with simple lists of integers"
   ]
  },
  {
   "cell_type": "code",
   "execution_count": 13,
   "metadata": {},
   "outputs": [
    {
     "name": "stdout",
     "output_type": "stream",
     "text": [
      "[7, 2, 3, 6, 5, 4, 1]\n",
      "[2, 4, 3, 1, 5, 7, 6]\n"
     ]
    }
   ],
   "source": [
    "parent1 = [7, 2, 3, 1, 5, 4, 6]\n",
    "parent2 = [2, 4, 5, 6, 1, 7, 3]\n",
    "\n",
    "\n",
    "print(pmx(parent1, parent2))\n",
    "print(cx(parent1, parent2))"
   ]
  },
  {
   "cell_type": "markdown",
   "metadata": {},
   "source": [
    "Also the mutation needs to generate valid individuals. Choose a strategy which suits our problem."
   ]
  },
  {
   "cell_type": "code",
   "execution_count": 14,
   "metadata": {},
   "outputs": [],
   "source": [
    "def mutate(individual, p_m):\n",
    "    for i in range(len(individual)):\n",
    "        if random.random() < p_m:\n",
    "            idx = random.sample(range(len(individual)), 1)[0]\n",
    "            individual[i], individual[idx] = individual[idx], individual[i]\n",
    "    return individual"
   ]
  },
  {
   "cell_type": "markdown",
   "metadata": {},
   "source": [
    "Now we define the function `generation`, which performs:\n",
    "- Selection\n",
    "- Crossover\n",
    "- Mutation\n",
    "\n",
    "One should have the possibility to include elitism."
   ]
  },
  {
   "cell_type": "code",
   "execution_count": 33,
   "metadata": {},
   "outputs": [],
   "source": [
    "def generation(pop, p_m, t_size, crossover=[pmx, cx], elitism=False, k_el=1):\n",
    "  pop_size = len(pop)\n",
    "  elite = []\n",
    "  if elitism: #the best k_el individual are passed directly to the next generation\n",
    "    sorted_pop = sorted(pop, key=lambda x:fitness_score(x), reverse=True)\n",
    "    elite+=sorted_pop[:k_el]\n",
    "  selected = [tournament_selection(pop, k=t_size) for _ in range(0,pop_size)]\n",
    "  pairs = zip(selected, selected[1:] + selected[0:1])\n",
    "  offsprings = [crossover(*x) for x in pairs] \n",
    "  return list(map(lambda x: mutate(x, p_m), offsprings)) + elite"
   ]
  },
  {
   "cell_type": "markdown",
   "metadata": {},
   "source": [
    "A GA performs a generational cycle a predefined number of times."
   ]
  },
  {
   "cell_type": "code",
   "execution_count": 16,
   "metadata": {},
   "outputs": [],
   "source": [
    "def get_best(pop, fitness_score):\n",
    "  return max([(fitness_score(x), x) for x in pop])"
   ]
  },
  {
   "cell_type": "code",
   "execution_count": 34,
   "metadata": {},
   "outputs": [],
   "source": [
    "n_gen = 1000\n",
    "def GA(cities, pop_size, n, fitness_score, crossover=[pmx,cx],t_size = 10, n_gen = n_gen, elitism=False):\n",
    "  history = []\n",
    "  p_m = 1/n\n",
    "  pop = init_population(cities=cities, pop_size=pop_size)\n",
    "  history.append(get_best(pop, fitness_score))\n",
    "  for _ in range(0, n_gen):\n",
    "    pop = generation(pop, p_m=p_m, t_size=t_size, crossover=crossover, elitism=elitism)\n",
    "    history.append(get_best(pop, fitness_score))\n",
    "  return get_best(pop, fitness_score=fitness_score), history"
   ]
  },
  {
   "cell_type": "markdown",
   "metadata": {},
   "source": [
    "Run the Algorithm with different crossover startegies and parametrisations. For each experiment, make a line plot showing the best fitness score for each generation."
   ]
  },
  {
   "cell_type": "code",
   "execution_count": 19,
   "metadata": {},
   "outputs": [],
   "source": [
    "cities = get_cities(25, 200, 200)"
   ]
  },
  {
   "cell_type": "code",
   "execution_count": 40,
   "metadata": {},
   "outputs": [],
   "source": [
    "res, history = GA(cities=cities, pop_size=40, n=len(cities), fitness_score=fitness_score, crossover=pmx, elitism=False)\n",
    "best_fit, best_route = res"
   ]
  },
  {
   "cell_type": "code",
   "execution_count": 41,
   "metadata": {},
   "outputs": [
    {
     "data": {
      "image/png": "[encoded data removed]",
      "text/plain": [
       "<Figure size 640x480 with 1 Axes>"
      ]
     },
     "metadata": {},
     "output_type": "display_data"
    }
   ],
   "source": [
    "plt.plot(np.arange(n_gen), [history[i][0] for i in range(n_gen)])\n",
    "plt.title('Evoulution of best score')\n",
    "plt.show()"
   ]
  },
  {
   "cell_type": "markdown",
   "metadata": {},
   "source": [
    "Let's plot the solution found by the GA. "
   ]
  },
  {
   "cell_type": "code",
   "execution_count": 42,
   "metadata": {},
   "outputs": [
    {
     "data": {
      "image/png": "[encoded data removed]",
      "text/plain": [
       "<Figure size 640x480 with 1 Axes>"
      ]
     },
     "metadata": {},
     "output_type": "display_data"
    }
   ],
   "source": [
    "# PLOT THE ROUTE\n",
    "route = res[1]\n",
    "\n",
    "x = [city.x for city in route]\n",
    "y = [city.y for city in route]\n",
    "plt.scatter(x, y, label='Cities', color='blue')\n",
    "\n",
    "for i in range(len(cities) - 1):\n",
    "    plt.plot([x[i], x[i + 1]], [y[i], y[i + 1]], 'r-')\n",
    "plt.plot([x[len(cities)-1], x[0]], [y[len(cities)-1], y[0]], 'r-')\n",
    "\n",
    "plt.title('Solution')\n",
    "plt.legend()\n",
    "plt.show()"
   ]
  },
  {
   "cell_type": "code",
   "execution_count": 39,
   "metadata": {},
   "outputs": [
    {
     "data": {
      "application/vnd.jupyter.widget-view+json": {
       "model_id": "3fd01150b7474667b3f6ca723a89ee71",
       "version_major": 2,
       "version_minor": 0
      },
      "text/plain": [
       "interactive(children=(IntSlider(value=0, description='it', max=999), Output()), _dom_classes=('widget-interact…"
      ]
     },
     "execution_count": 39,
     "metadata": {},
     "output_type": "execute_result"
    }
   ],
   "source": [
    "from ipywidgets import interactive, IntSlider\n",
    "\n",
    "routes_history = [history[i][1] for i in range(n_gen)]\n",
    "\n",
    "def plot_history( routes_history, cool=False):\n",
    "        \n",
    "        def plot_iteration(it):\n",
    "            color = \"black\"\n",
    "            if cool == True:\n",
    "                plt.style.use(\"dark_background\")\n",
    "                color = \"white\"\n",
    "\n",
    "            route = routes_history[it]\n",
    "            x = [city.x for city in route]\n",
    "            y = [city.y for city in route]\n",
    "            plt.scatter(x, y, label='Cities', color='blue')\n",
    "\n",
    "            for i in range(len(cities) - 1):\n",
    "                plt.plot([x[i], x[i + 1]], [y[i], y[i + 1]], 'r-')\n",
    "            plt.plot([x[len(cities)-1], x[0]], [y[len(cities)-1], y[0]], 'r-')\n",
    "            plt.title(f'Generation {it}')\n",
    "    \n",
    "            plt.legend()\n",
    "            plt.show()\n",
    "\n",
    "        plt.style.use(\"default\")\n",
    "\n",
    "        slider = IntSlider(min=0, max=n_gen-1, step=1, value=0)\n",
    "        return interactive(plot_iteration, it=slider)\n",
    "\n",
    "plot_history(routes_history=routes_history, cool=False)"
   ]
  },
  {
   "cell_type": "code",
   "execution_count": null,
   "metadata": {},
   "outputs": [],
   "source": []
  }
 ],
 "metadata": {
  "kernelspec": {
   "display_name": "optai",
   "language": "python",
   "name": "python3"
  },
  "language_info": {
   "codemirror_mode": {
    "name": "ipython",
    "version": 3
   },
   "file_extension": ".py",
   "mimetype": "text/x-python",
   "name": "python",
   "nbconvert_exporter": "python",
   "pygments_lexer": "ipython3",
   "version": "3.11.1"
  },
  "orig_nbformat": 4
 },
 "nbformat": 4,
 "nbformat_minor": 2
}
